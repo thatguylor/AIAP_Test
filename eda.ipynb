{
 "cells": [
  {
   "cell_type": "code",
   "execution_count": 10,
   "metadata": {},
   "outputs": [
    {
     "name": "stdout",
     "output_type": "stream",
     "text": [
      "Database created and Successfully Connected to SQLite\n",
      "SQLite Database Version is:  [('3.36.0',)]\n",
      "The SQLite connection is closed\n"
     ]
    }
   ],
   "source": [
    "import sqlite3\n",
    "\n",
    "try:\n",
    "    sqliteConnection = sqlite3.connect(r'data\\survive.db')\n",
    "    cursor = sqliteConnection.cursor()\n",
    "    print(\"Database created and Successfully Connected to SQLite\")\n",
    "\n",
    "    sqlite_select_Query = \"select sqlite_version();\"\n",
    "    cursor.execute(sqlite_select_Query)\n",
    "    record = cursor.fetchall()\n",
    "    print(\"SQLite Database Version is: \", record)\n",
    "    cursor.close()\n",
    "\n",
    "except sqlite3.Error as error:\n",
    "    print(\"Error while connecting to sqlite\", error)\n",
    "finally:\n",
    "    if sqliteConnection:\n",
    "        sqliteConnection.close()\n",
    "        print(\"The SQLite connection is closed\")"
   ]
  }
 ],
 "metadata": {
  "interpreter": {
   "hash": "44e97edad891e2ac2f275063483f64ea27e425aae9fbc937c684963bdec0418f"
  },
  "kernelspec": {
   "display_name": "Python 3.9.7 64-bit ('base': conda)",
   "language": "python",
   "name": "python3"
  },
  "language_info": {
   "codemirror_mode": {
    "name": "ipython",
    "version": 3
   },
   "file_extension": ".py",
   "mimetype": "text/x-python",
   "name": "python",
   "nbconvert_exporter": "python",
   "pygments_lexer": "ipython3",
   "version": "3.9.7"
  },
  "orig_nbformat": 4
 },
 "nbformat": 4,
 "nbformat_minor": 2
}
