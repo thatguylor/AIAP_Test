{
 "cells": [
  {
   "cell_type": "markdown",
   "metadata": {},
   "source": [
    "# Task 1 - EDA (Explaratory Data Analysis)"
   ]
  },
  {
   "cell_type": "markdown",
   "metadata": {},
   "source": [
    "## Subtask 1 - Connection to DB"
   ]
  },
  {
   "cell_type": "markdown",
   "metadata": {},
   "source": [
    "Here we import the necessary modules, as well as a custom connection to database function from src/commonfunctions.py \n",
    "\n",
    "Purpose is to improve code readbility and reusability throughout the assessment. "
   ]
  },
  {
   "cell_type": "code",
   "execution_count": null,
   "metadata": {},
   "outputs": [],
   "source": [
    "import pandas as pd\n",
    "from src.commonfunctions import ConnectToDB"
   ]
  },
  {
   "cell_type": "markdown",
   "metadata": {},
   "source": [
    "Connecting to the Database in data\\survive.db and then executing the query and saving the results to a dataframe in pandas."
   ]
  },
  {
   "cell_type": "code",
   "execution_count": 2,
   "metadata": {},
   "outputs": [
    {
     "name": "stdout",
     "output_type": "stream",
     "text": [
      "Database created and Successfully Connected to SQLite\n",
      "SQLite Database Version is:  [('3.36.0',)]\n"
     ]
    },
    {
     "data": {
      "text/html": [
       "<div>\n",
       "<style scoped>\n",
       "    .dataframe tbody tr th:only-of-type {\n",
       "        vertical-align: middle;\n",
       "    }\n",
       "\n",
       "    .dataframe tbody tr th {\n",
       "        vertical-align: top;\n",
       "    }\n",
       "\n",
       "    .dataframe thead th {\n",
       "        text-align: right;\n",
       "    }\n",
       "</style>\n",
       "<table border=\"1\" class=\"dataframe\">\n",
       "  <thead>\n",
       "    <tr style=\"text-align: right;\">\n",
       "      <th></th>\n",
       "      <th>ID</th>\n",
       "      <th>Survive</th>\n",
       "      <th>Gender</th>\n",
       "      <th>Smoke</th>\n",
       "      <th>Diabetes</th>\n",
       "      <th>Age</th>\n",
       "      <th>Ejection Fraction</th>\n",
       "      <th>Sodium</th>\n",
       "      <th>Creatinine</th>\n",
       "      <th>Pletelets</th>\n",
       "      <th>Creatinine phosphokinase</th>\n",
       "      <th>Blood Pressure</th>\n",
       "      <th>Hemoglobin</th>\n",
       "      <th>Height</th>\n",
       "      <th>Weight</th>\n",
       "      <th>Favorite color</th>\n",
       "    </tr>\n",
       "  </thead>\n",
       "  <tbody>\n",
       "    <tr>\n",
       "      <th>0</th>\n",
       "      <td>TIG1GE</td>\n",
       "      <td>0</td>\n",
       "      <td>Male</td>\n",
       "      <td>Yes</td>\n",
       "      <td>Normal</td>\n",
       "      <td>50</td>\n",
       "      <td>Low</td>\n",
       "      <td>141</td>\n",
       "      <td>0.7</td>\n",
       "      <td>266000.0</td>\n",
       "      <td>185</td>\n",
       "      <td>105</td>\n",
       "      <td>12.3</td>\n",
       "      <td>180</td>\n",
       "      <td>93</td>\n",
       "      <td>green</td>\n",
       "    </tr>\n",
       "    <tr>\n",
       "      <th>1</th>\n",
       "      <td>VXUCV9</td>\n",
       "      <td>1</td>\n",
       "      <td>Male</td>\n",
       "      <td>No</td>\n",
       "      <td>Normal</td>\n",
       "      <td>75</td>\n",
       "      <td>Low</td>\n",
       "      <td>134</td>\n",
       "      <td>2.5</td>\n",
       "      <td>224000.0</td>\n",
       "      <td>99</td>\n",
       "      <td>162</td>\n",
       "      <td>13.0</td>\n",
       "      <td>140</td>\n",
       "      <td>47</td>\n",
       "      <td>black</td>\n",
       "    </tr>\n",
       "    <tr>\n",
       "      <th>2</th>\n",
       "      <td>AFH4F1</td>\n",
       "      <td>1</td>\n",
       "      <td>Female</td>\n",
       "      <td>No</td>\n",
       "      <td>Pre-diabetes</td>\n",
       "      <td>80</td>\n",
       "      <td>Low</td>\n",
       "      <td>135</td>\n",
       "      <td>1.3</td>\n",
       "      <td>192000.0</td>\n",
       "      <td>776</td>\n",
       "      <td>179</td>\n",
       "      <td>12.4</td>\n",
       "      <td>150</td>\n",
       "      <td>61</td>\n",
       "      <td>white</td>\n",
       "    </tr>\n",
       "    <tr>\n",
       "      <th>3</th>\n",
       "      <td>ZK6PAC</td>\n",
       "      <td>0</td>\n",
       "      <td>Male</td>\n",
       "      <td>No</td>\n",
       "      <td>Normal</td>\n",
       "      <td>-60</td>\n",
       "      <td>Low</td>\n",
       "      <td>136</td>\n",
       "      <td>0.9</td>\n",
       "      <td>228000.0</td>\n",
       "      <td>2261</td>\n",
       "      <td>136</td>\n",
       "      <td>15.3</td>\n",
       "      <td>130</td>\n",
       "      <td>48</td>\n",
       "      <td>yellow</td>\n",
       "    </tr>\n",
       "    <tr>\n",
       "      <th>4</th>\n",
       "      <td>6CVBRT</td>\n",
       "      <td>0</td>\n",
       "      <td>Female</td>\n",
       "      <td>No</td>\n",
       "      <td>Normal</td>\n",
       "      <td>70</td>\n",
       "      <td>Low</td>\n",
       "      <td>141</td>\n",
       "      <td>0.9</td>\n",
       "      <td>358000.0</td>\n",
       "      <td>1202</td>\n",
       "      <td>171</td>\n",
       "      <td>13.3</td>\n",
       "      <td>177</td>\n",
       "      <td>64</td>\n",
       "      <td>blue</td>\n",
       "    </tr>\n",
       "    <tr>\n",
       "      <th>...</th>\n",
       "      <td>...</td>\n",
       "      <td>...</td>\n",
       "      <td>...</td>\n",
       "      <td>...</td>\n",
       "      <td>...</td>\n",
       "      <td>...</td>\n",
       "      <td>...</td>\n",
       "      <td>...</td>\n",
       "      <td>...</td>\n",
       "      <td>...</td>\n",
       "      <td>...</td>\n",
       "      <td>...</td>\n",
       "      <td>...</td>\n",
       "      <td>...</td>\n",
       "      <td>...</td>\n",
       "      <td>...</td>\n",
       "    </tr>\n",
       "    <tr>\n",
       "      <th>14995</th>\n",
       "      <td>91MBFV</td>\n",
       "      <td>0</td>\n",
       "      <td>Male</td>\n",
       "      <td>Yes</td>\n",
       "      <td>Normal</td>\n",
       "      <td>50</td>\n",
       "      <td>Low</td>\n",
       "      <td>140</td>\n",
       "      <td>0.9</td>\n",
       "      <td>362000.0</td>\n",
       "      <td>298</td>\n",
       "      <td>109</td>\n",
       "      <td>11.8</td>\n",
       "      <td>178</td>\n",
       "      <td>51</td>\n",
       "      <td>blue</td>\n",
       "    </tr>\n",
       "    <tr>\n",
       "      <th>14996</th>\n",
       "      <td>3BK9WM</td>\n",
       "      <td>1</td>\n",
       "      <td>Male</td>\n",
       "      <td>Yes</td>\n",
       "      <td>Normal</td>\n",
       "      <td>62</td>\n",
       "      <td>Low</td>\n",
       "      <td>140</td>\n",
       "      <td>0.9</td>\n",
       "      <td>253000.0</td>\n",
       "      <td>231</td>\n",
       "      <td>141</td>\n",
       "      <td>14.6</td>\n",
       "      <td>171</td>\n",
       "      <td>114</td>\n",
       "      <td>green</td>\n",
       "    </tr>\n",
       "    <tr>\n",
       "      <th>14997</th>\n",
       "      <td>01ZP6F</td>\n",
       "      <td>0</td>\n",
       "      <td>Female</td>\n",
       "      <td>No</td>\n",
       "      <td>Normal</td>\n",
       "      <td>61</td>\n",
       "      <td>Low</td>\n",
       "      <td>141</td>\n",
       "      <td>0.9</td>\n",
       "      <td>229000.0</td>\n",
       "      <td>84</td>\n",
       "      <td>173</td>\n",
       "      <td>9.2</td>\n",
       "      <td>156</td>\n",
       "      <td>71</td>\n",
       "      <td>blue</td>\n",
       "    </tr>\n",
       "    <tr>\n",
       "      <th>14998</th>\n",
       "      <td>JMSGEG</td>\n",
       "      <td>0</td>\n",
       "      <td>Male</td>\n",
       "      <td>No</td>\n",
       "      <td>Normal</td>\n",
       "      <td>77</td>\n",
       "      <td>Low</td>\n",
       "      <td>137</td>\n",
       "      <td>1.1</td>\n",
       "      <td>406000.0</td>\n",
       "      <td>109</td>\n",
       "      <td>154</td>\n",
       "      <td>11.3</td>\n",
       "      <td>130</td>\n",
       "      <td>32</td>\n",
       "      <td>red</td>\n",
       "    </tr>\n",
       "    <tr>\n",
       "      <th>14999</th>\n",
       "      <td>16DJV7</td>\n",
       "      <td>1</td>\n",
       "      <td>Male</td>\n",
       "      <td>No</td>\n",
       "      <td>Normal</td>\n",
       "      <td>45</td>\n",
       "      <td>Low</td>\n",
       "      <td>135</td>\n",
       "      <td>1.6</td>\n",
       "      <td>126000.0</td>\n",
       "      <td>582</td>\n",
       "      <td>143</td>\n",
       "      <td>16.8</td>\n",
       "      <td>147</td>\n",
       "      <td>48</td>\n",
       "      <td>red</td>\n",
       "    </tr>\n",
       "  </tbody>\n",
       "</table>\n",
       "<p>15000 rows × 16 columns</p>\n",
       "</div>"
      ],
      "text/plain": [
       "           ID Survive  Gender Smoke      Diabetes  Age Ejection Fraction  \\\n",
       "0      TIG1GE       0    Male   Yes        Normal   50               Low   \n",
       "1      VXUCV9       1    Male    No        Normal   75               Low   \n",
       "2      AFH4F1       1  Female    No  Pre-diabetes   80               Low   \n",
       "3      ZK6PAC       0    Male    No        Normal  -60               Low   \n",
       "4      6CVBRT       0  Female    No        Normal   70               Low   \n",
       "...       ...     ...     ...   ...           ...  ...               ...   \n",
       "14995  91MBFV       0    Male   Yes        Normal   50               Low   \n",
       "14996  3BK9WM       1    Male   Yes        Normal   62               Low   \n",
       "14997  01ZP6F       0  Female    No        Normal   61               Low   \n",
       "14998  JMSGEG       0    Male    No        Normal   77               Low   \n",
       "14999  16DJV7       1    Male    No        Normal   45               Low   \n",
       "\n",
       "       Sodium  Creatinine  Pletelets  Creatinine phosphokinase  \\\n",
       "0         141         0.7   266000.0                       185   \n",
       "1         134         2.5   224000.0                        99   \n",
       "2         135         1.3   192000.0                       776   \n",
       "3         136         0.9   228000.0                      2261   \n",
       "4         141         0.9   358000.0                      1202   \n",
       "...       ...         ...        ...                       ...   \n",
       "14995     140         0.9   362000.0                       298   \n",
       "14996     140         0.9   253000.0                       231   \n",
       "14997     141         0.9   229000.0                        84   \n",
       "14998     137         1.1   406000.0                       109   \n",
       "14999     135         1.6   126000.0                       582   \n",
       "\n",
       "       Blood Pressure  Hemoglobin  Height  Weight Favorite color  \n",
       "0                 105        12.3     180      93          green  \n",
       "1                 162        13.0     140      47          black  \n",
       "2                 179        12.4     150      61          white  \n",
       "3                 136        15.3     130      48         yellow  \n",
       "4                 171        13.3     177      64           blue  \n",
       "...               ...         ...     ...     ...            ...  \n",
       "14995             109        11.8     178      51           blue  \n",
       "14996             141        14.6     171     114          green  \n",
       "14997             173         9.2     156      71           blue  \n",
       "14998             154        11.3     130      32            red  \n",
       "14999             143        16.8     147      48            red  \n",
       "\n",
       "[15000 rows x 16 columns]"
      ]
     },
     "execution_count": 2,
     "metadata": {},
     "output_type": "execute_result"
    }
   ],
   "source": [
    "pathtodb = 'data\\survive.db'\n",
    "\n",
    "df = pd.read_sql_query(\"SELECT * from survive\", ConnectToDB(pathtodb))\n",
    "\n",
    "# Verify that result of SQL query is stored in the dataframe\n",
    "df\n"
   ]
  },
  {
   "cell_type": "markdown",
   "metadata": {},
   "source": [
    "## Subtask 2 - Initial EDA"
   ]
  },
  {
   "cell_type": "markdown",
   "metadata": {},
   "source": [
    "16 columns with 15000 rows are recorded as the shape of the df, also platelets are wrongly spelt? We see below that there are no rows with missing values except for the Creatinine column. "
   ]
  },
  {
   "cell_type": "code",
   "execution_count": 3,
   "metadata": {},
   "outputs": [
    {
     "name": "stdout",
     "output_type": "stream",
     "text": [
      "<class 'pandas.core.frame.DataFrame'>\n",
      "RangeIndex: 15000 entries, 0 to 14999\n",
      "Data columns (total 16 columns):\n",
      " #   Column                    Non-Null Count  Dtype  \n",
      "---  ------                    --------------  -----  \n",
      " 0   ID                        15000 non-null  object \n",
      " 1   Survive                   15000 non-null  object \n",
      " 2   Gender                    15000 non-null  object \n",
      " 3   Smoke                     15000 non-null  object \n",
      " 4   Diabetes                  15000 non-null  object \n",
      " 5   Age                       15000 non-null  int64  \n",
      " 6   Ejection Fraction         15000 non-null  object \n",
      " 7   Sodium                    15000 non-null  int64  \n",
      " 8   Creatinine                14501 non-null  float64\n",
      " 9   Pletelets                 15000 non-null  float64\n",
      " 10  Creatinine phosphokinase  15000 non-null  int64  \n",
      " 11  Blood Pressure            15000 non-null  int64  \n",
      " 12  Hemoglobin                15000 non-null  float64\n",
      " 13  Height                    15000 non-null  int64  \n",
      " 14  Weight                    15000 non-null  int64  \n",
      " 15  Favorite color            15000 non-null  object \n",
      "dtypes: float64(3), int64(6), object(7)\n",
      "memory usage: 1.8+ MB\n"
     ]
    }
   ],
   "source": [
    "df.info()"
   ]
  },
  {
   "cell_type": "markdown",
   "metadata": {},
   "source": [
    "This is where the real trouble starts, we find that the columns contain dubious and ambigious data, for eg. Survive column has 4 values when it should be a boolean value and ID contains only 14042 unique entries, which means some IDs have been duplicated. Below we also write a log of the summary of data in data/Dataset_summary.txt for your reference. Please head over to that section to find out more detailed summary. "
   ]
  },
  {
   "cell_type": "code",
   "execution_count": 10,
   "metadata": {},
   "outputs": [
    {
     "data": {
      "text/plain": [
       "ID                          14042\n",
       "Survive                         4\n",
       "Gender                          2\n",
       "Smoke                           4\n",
       "Diabetes                        3\n",
       "Age                            87\n",
       "Ejection Fraction               5\n",
       "Sodium                         27\n",
       "Creatinine                     40\n",
       "Pletelets                     176\n",
       "Creatinine phosphokinase      208\n",
       "Blood Pressure                139\n",
       "Hemoglobin                     86\n",
       "Height                         60\n",
       "Weight                        123\n",
       "Favorite color                  6\n",
       "dtype: int64"
      ]
     },
     "execution_count": 10,
     "metadata": {},
     "output_type": "execute_result"
    }
   ],
   "source": [
    "df.nunique()"
   ]
  },
  {
   "cell_type": "code",
   "execution_count": 8,
   "metadata": {},
   "outputs": [],
   "source": [
    "file = open(\"data/Dataset_Summary.txt\",\"r+\")\n",
    "file.truncate(0)\n",
    "file.close()\n",
    "\n",
    "for column in df:\n",
    "    file = open(\"data/Dataset_Summary.txt\",\"a\")\n",
    "    file.write(str(df[column].value_counts()))\n",
    "    file.write('\\n')\n",
    "    file.write('='*20)\n",
    "    file.write('\\n')\n",
    "    file.close()"
   ]
  },
  {
   "cell_type": "markdown",
   "metadata": {},
   "source": [
    "## Subtask 3 - Data Cleaning"
   ]
  },
  {
   "cell_type": "markdown",
   "metadata": {},
   "source": [
    "ETL Pipeline #1\n",
    "Going sequentially, column by columns we start with the first column for ID - i will assume that any subsequent entry with the same ID is an error and treat it as such. "
   ]
  },
  {
   "cell_type": "code",
   "execution_count": 70,
   "metadata": {},
   "outputs": [],
   "source": [
    "cleaned_df = df.copy(deep= True)\n",
    "#ETL Pipeline Number 1 \n",
    "cleaned_df.drop_duplicates(subset =\"ID\", keep = 'first', inplace = True) "
   ]
  },
  {
   "cell_type": "markdown",
   "metadata": {},
   "source": [
    "ETL Pipeline #2 Survive Column contains mix of 0 and 1 boolean and Yes and No "
   ]
  },
  {
   "cell_type": "code",
   "execution_count": 71,
   "metadata": {},
   "outputs": [],
   "source": [
    "cleaned_df.Survive = cleaned_df.Survive.map({'Yes':1, 'No':0, '1':1,'0':0})\n"
   ]
  },
  {
   "cell_type": "markdown",
   "metadata": {},
   "source": [
    "ETL Pipeline #3 Change Gender to Encoded Boolean Values "
   ]
  },
  {
   "cell_type": "code",
   "execution_count": 72,
   "metadata": {},
   "outputs": [],
   "source": [
    "cleaned_df.Gender = cleaned_df.Gender.map({'Male':1,'Female':0})"
   ]
  },
  {
   "cell_type": "markdown",
   "metadata": {},
   "source": [
    "ETL Pipeline #4 Change Smoke cat to all upper case then boolean encode yes and no values"
   ]
  },
  {
   "cell_type": "code",
   "execution_count": 73,
   "metadata": {},
   "outputs": [],
   "source": [
    "cleaned_df['Smoke'] = cleaned_df['Smoke'].str.upper()  \n",
    "\n",
    "cleaned_df.Smoke = cleaned_df.Smoke.map({'YES':1,'NO':0})"
   ]
  },
  {
   "cell_type": "markdown",
   "metadata": {},
   "source": [
    "ETL Pipeline #5 Remove Erranous Age values for eg. Negative ages and ages > 100 "
   ]
  },
  {
   "cell_type": "code",
   "execution_count": 74,
   "metadata": {},
   "outputs": [],
   "source": [
    "cleaned_df = cleaned_df[cleaned_df.Age >0]  \n",
    "cleaned_df = cleaned_df[cleaned_df.Age < 100 ]"
   ]
  },
  {
   "cell_type": "markdown",
   "metadata": {},
   "source": [
    "ETL Pipeline #6 Changing Ejection Fraction to Low High and Normal"
   ]
  },
  {
   "cell_type": "code",
   "execution_count": 75,
   "metadata": {},
   "outputs": [],
   "source": [
    "cleaned_df['Ejection Fraction'] = cleaned_df['Ejection Fraction'].map({'Low':'Low','Normal':'Normal','High':'High','L':'Low','N':'Normal'})"
   ]
  },
  {
   "cell_type": "markdown",
   "metadata": {},
   "source": [
    "ETL Pipeline #7 Filling in missing values for Creatinine "
   ]
  },
  {
   "cell_type": "code",
   "execution_count": 76,
   "metadata": {},
   "outputs": [],
   "source": [
    "cleaned_df = cleaned_df.fillna(method=\"ffill\")"
   ]
  },
  {
   "cell_type": "code",
   "execution_count": 80,
   "metadata": {},
   "outputs": [],
   "source": [
    "cleaned_df.to_csv(r'data/Cleaned_Data.csv')"
   ]
  },
  {
   "cell_type": "markdown",
   "metadata": {},
   "source": [
    "## Subtask 4 - Data Visualizations \n"
   ]
  },
  {
   "cell_type": "markdown",
   "metadata": {},
   "source": [
    "Interactive Data Visualizations "
   ]
  }
 ],
 "metadata": {
  "interpreter": {
   "hash": "44e97edad891e2ac2f275063483f64ea27e425aae9fbc937c684963bdec0418f"
  },
  "kernelspec": {
   "display_name": "Python 3.9.7 64-bit ('base': conda)",
   "language": "python",
   "name": "python3"
  },
  "language_info": {
   "codemirror_mode": {
    "name": "ipython",
    "version": 3
   },
   "file_extension": ".py",
   "mimetype": "text/x-python",
   "name": "python",
   "nbconvert_exporter": "python",
   "pygments_lexer": "ipython3",
   "version": "3.9.7"
  },
  "orig_nbformat": 4
 },
 "nbformat": 4,
 "nbformat_minor": 2
}
